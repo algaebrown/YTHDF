{
 "cells": [
  {
   "cell_type": "markdown",
   "metadata": {},
   "source": [
    "# This notebook is to take the union of peaks"
   ]
  },
  {
   "cell_type": "code",
   "execution_count": 1,
   "metadata": {},
   "outputs": [],
   "source": [
    "from pybedtools import BedTool\n",
    "peakdir='/home/hsher/YTHDF2/raw_beds/'\n",
    "\n",
    "condition_dict = {'YTHDF2':\n",
    "                  {'lib': ['m1', 'm2', 'm3'],\n",
    "                  'fast':['m4', 'm5', 'm6']\n",
    "                 },\n",
    "                  'm6A':\n",
    "                {'lib': ['m7', 'm8', 'm9'],\n",
    "                  'fast':['m10', 'm11', 'm12']\n",
    "                 }}\n",
    "\n",
    "def read_3_rep(rbp, condition):\n",
    "    three_peaks = []\n",
    "    for lib in condition_dict[rbp][condition]: #['m1', 'm2', 'm3']\n",
    "        fname = 'zt2_liver_{}_eCLIP.{}_IP.umi.r1.fq.genome-mappedSoSo.rmDupSo.peakClusters.normed.compressed.sort.bed'.format(rbp, lib)\n",
    "        three_peaks.append(BedTool(peakdir+fname))\n",
    "    return three_peaks"
   ]
  },
  {
   "cell_type": "code",
   "execution_count": 2,
   "metadata": {},
   "outputs": [],
   "source": [
    "from collections import Counter\n",
    "# consensus peaks\n",
    "def get_consensus(peak_list):\n",
    "    ''' does not have strand information!'''\n",
    "    x = BedTool()\n",
    "    result = x.multi_intersect(i=[p.fn for p in peak_list])\n",
    "    \n",
    "    return(result)\n",
    "def count_consensus(result):\n",
    "    return Counter([r[3] for r in result])"
   ]
  },
  {
   "cell_type": "markdown",
   "metadata": {},
   "source": [
    "# Calculate how well they overlap"
   ]
  },
  {
   "cell_type": "code",
   "execution_count": 3,
   "metadata": {},
   "outputs": [],
   "source": [
    "stat = []\n",
    "for rbp in ['YTHDF2', 'm6A']:\n",
    "    for cond in ['lib', 'fast']:\n",
    "        \n",
    "\n",
    "        beds = read_3_rep(rbp, cond)\n",
    "        indv_no = [len(bed) for bed in beds]\n",
    "        result = get_consensus(beds)\n",
    "        intersect_cond = count_consensus(result)\n",
    "        stat.append([rbp, cond]+indv_no+list(intersect_cond.values()))\n"
   ]
  },
  {
   "cell_type": "code",
   "execution_count": 4,
   "metadata": {},
   "outputs": [],
   "source": [
    "import pandas as pd\n",
    "stat_df = pd.DataFrame(stat, columns = ['rbp', 'cond', '#peak1', '#peak2', '#peak3', 'only1rep', 'only2rep', 'only3rep'])"
   ]
  },
  {
   "cell_type": "code",
   "execution_count": 5,
   "metadata": {},
   "outputs": [
    {
     "data": {
      "text/html": [
       "<div>\n",
       "<style scoped>\n",
       "    .dataframe tbody tr th:only-of-type {\n",
       "        vertical-align: middle;\n",
       "    }\n",
       "\n",
       "    .dataframe tbody tr th {\n",
       "        vertical-align: top;\n",
       "    }\n",
       "\n",
       "    .dataframe thead th {\n",
       "        text-align: right;\n",
       "    }\n",
       "</style>\n",
       "<table border=\"1\" class=\"dataframe\">\n",
       "  <thead>\n",
       "    <tr style=\"text-align: right;\">\n",
       "      <th></th>\n",
       "      <th>rbp</th>\n",
       "      <th>cond</th>\n",
       "      <th>#peak1</th>\n",
       "      <th>#peak2</th>\n",
       "      <th>#peak3</th>\n",
       "      <th>only1rep</th>\n",
       "      <th>only2rep</th>\n",
       "      <th>only3rep</th>\n",
       "    </tr>\n",
       "  </thead>\n",
       "  <tbody>\n",
       "    <tr>\n",
       "      <th>0</th>\n",
       "      <td>YTHDF2</td>\n",
       "      <td>lib</td>\n",
       "      <td>14083</td>\n",
       "      <td>33297</td>\n",
       "      <td>36567</td>\n",
       "      <td>66137</td>\n",
       "      <td>25326</td>\n",
       "      <td>7011</td>\n",
       "    </tr>\n",
       "    <tr>\n",
       "      <th>1</th>\n",
       "      <td>YTHDF2</td>\n",
       "      <td>fast</td>\n",
       "      <td>30725</td>\n",
       "      <td>37097</td>\n",
       "      <td>49947</td>\n",
       "      <td>88162</td>\n",
       "      <td>39740</td>\n",
       "      <td>14016</td>\n",
       "    </tr>\n",
       "    <tr>\n",
       "      <th>2</th>\n",
       "      <td>m6A</td>\n",
       "      <td>lib</td>\n",
       "      <td>153529</td>\n",
       "      <td>139482</td>\n",
       "      <td>26745</td>\n",
       "      <td>200876</td>\n",
       "      <td>101033</td>\n",
       "      <td>16195</td>\n",
       "    </tr>\n",
       "    <tr>\n",
       "      <th>3</th>\n",
       "      <td>m6A</td>\n",
       "      <td>fast</td>\n",
       "      <td>126405</td>\n",
       "      <td>41794</td>\n",
       "      <td>116714</td>\n",
       "      <td>175019</td>\n",
       "      <td>97665</td>\n",
       "      <td>30073</td>\n",
       "    </tr>\n",
       "  </tbody>\n",
       "</table>\n",
       "</div>"
      ],
      "text/plain": [
       "      rbp  cond  #peak1  #peak2  #peak3  only1rep  only2rep  only3rep\n",
       "0  YTHDF2   lib   14083   33297   36567     66137     25326      7011\n",
       "1  YTHDF2  fast   30725   37097   49947     88162     39740     14016\n",
       "2     m6A   lib  153529  139482   26745    200876    101033     16195\n",
       "3     m6A  fast  126405   41794  116714    175019     97665     30073"
      ]
     },
     "execution_count": 5,
     "metadata": {},
     "output_type": "execute_result"
    }
   ],
   "source": [
    "stat_df"
   ]
  },
  {
   "cell_type": "markdown",
   "metadata": {},
   "source": [
    "# Union of three reps, sort and merge"
   ]
  },
  {
   "cell_type": "code",
   "execution_count": 6,
   "metadata": {},
   "outputs": [],
   "source": [
    "outdir = '/home/hsher/YTHDF2/intersecting_beds/'\n",
    "import os\n",
    "def either_rep_peak(peak_list, output_fname):\n",
    "    os.system('cat {} {} {} > {}concat.bed'.format(peak_list[0].fn, peak_list[1].fn, peak_list[2].fn, outdir))\n",
    "    os.system('bedtools sort -i {}concat.bed > {}sorted.bed'.format(outdir, outdir))\n",
    "    \n",
    "    \n",
    "    \n",
    "    os.system('bedtools merge -i {}sorted.bed -s -c 4,5,6 -o min,max,distinct > {}{}'.format(outdir, outdir, output_fname))\n",
    "    os.system('rm {}concat.bed'.format(outdir))\n",
    "    os.system('rm {}sorted.bed'.format(outdir))"
   ]
  },
  {
   "cell_type": "code",
   "execution_count": 7,
   "metadata": {},
   "outputs": [
    {
     "name": "stdout",
     "output_type": "stream",
     "text": [
      "YTHDF2_lib_union_bed6.bed\n",
      "YTHDF2_fast_union_bed6.bed\n",
      "m6A_lib_union_bed6.bed\n",
      "m6A_fast_union_bed6.bed\n"
     ]
    }
   ],
   "source": [
    "stat = []\n",
    "for rbp in ['YTHDF2', 'm6A']:\n",
    "    for cond in ['lib', 'fast']:\n",
    "        \n",
    "\n",
    "        beds = read_3_rep(rbp, cond)\n",
    "        fname = '{}_{}_union_bed6.bed'.format(rbp, cond)\n",
    "        either_rep_peak(beds, fname)\n",
    "        print(fname)"
   ]
  },
  {
   "cell_type": "markdown",
   "metadata": {},
   "source": [
    "# find regions supported by at least 2 reps"
   ]
  },
  {
   "cell_type": "code",
   "execution_count": 9,
   "metadata": {},
   "outputs": [
    {
     "name": "stdout",
     "output_type": "stream",
     "text": [
      "chr1\t3531677\t3531697\t1\t2\t0\t1\t0\n",
      "\n"
     ]
    }
   ],
   "source": [
    "print(result[0])"
   ]
  },
  {
   "cell_type": "code",
   "execution_count": 18,
   "metadata": {},
   "outputs": [],
   "source": [
    "def at_least_two_rep(rbp, cond):\n",
    "    ''' bedtool intersect to get list of regions with at least 2 reps'''\n",
    "    bedlist = read_3_rep(rbp, cond)\n",
    "    \n",
    "    # multiintersect does not take care of strandedness\n",
    "    first = bedlist[0].intersect(bedlist[1], u = True, s = True)\n",
    "    second = bedlist[1].intersect(bedlist[2], u = True, s = True)\n",
    "    third = bedlist[2].intersect(bedlist[0], u = True, s = True)\n",
    "    \n",
    "    \n",
    "    \n",
    "    # concat\n",
    "    cat = first.cat(second, postmerge = False).cat(third, postmerge = False).sort().merge(s = True, c='4,5,6',o='min,max,distinct').saveas('{}{}_{}_2rep_bed6.bed'.format(outdir, rbp, cond))\n",
    "    \n",
    "    return cat\n",
    "    \n",
    "    \n",
    "    "
   ]
  },
  {
   "cell_type": "code",
   "execution_count": 20,
   "metadata": {},
   "outputs": [],
   "source": [
    "stat = []\n",
    "for rbp in ['YTHDF2', 'm6A']:\n",
    "    for cond in ['lib', 'fast']:\n",
    "        c = at_least_two_rep(rbp, cond)"
   ]
  }
 ],
 "metadata": {
  "kernelspec": {
   "display_name": "Python 3",
   "language": "python",
   "name": "python3"
  },
  "language_info": {
   "codemirror_mode": {
    "name": "ipython",
    "version": 3
   },
   "file_extension": ".py",
   "mimetype": "text/x-python",
   "name": "python",
   "nbconvert_exporter": "python",
   "pygments_lexer": "ipython3",
   "version": "3.7.6"
  }
 },
 "nbformat": 4,
 "nbformat_minor": 4
}
